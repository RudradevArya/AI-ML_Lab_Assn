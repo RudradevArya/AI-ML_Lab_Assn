{
 "cells": [
  {
   "cell_type": "code",
   "execution_count": 3,
   "id": "2a48f051",
   "metadata": {},
   "outputs": [],
   "source": [
    "from collections import deque"
   ]
  },
  {
   "cell_type": "code",
   "execution_count": 4,
   "id": "2458f188",
   "metadata": {},
   "outputs": [],
   "source": [
    "def bfs(graph, root):\n",
    "    visited = set()\n",
    "    queue = deque([root])\n",
    "\n",
    "    while queue:\n",
    "        vertex = queue.popleft()\n",
    "        print(vertex, end=\" \")\n",
    "\n",
    "        for neighbour in graph[vertex]:\n",
    "            if neighbour not in visited:\n",
    "                visited.add(neighbour)\n",
    "                queue.append(neighbour)"
   ]
  },
  {
   "cell_type": "code",
   "execution_count": 8,
   "id": "2f08d3bc",
   "metadata": {},
   "outputs": [],
   "source": [
    "graph = {\n",
    "  '5' : ['3','7'],\n",
    "  '3' : ['2', '4'],\n",
    "  '7' : ['8'],\n",
    "  '2' : [],\n",
    "  '4' : ['8'],\n",
    "  '8' : []\n",
    "}"
   ]
  },
  {
   "cell_type": "code",
   "execution_count": 7,
   "id": "304def57",
   "metadata": {},
   "outputs": [],
   "source": [
    "def bfs2(graph, root):\n",
    "    visited = []\n",
    "    queue = [root]\n",
    "\n",
    "    while queue:\n",
    "        vertex = queue.pop(0)\n",
    "        print(vertex, end=\" \")\n",
    "\n",
    "        for neighbour in graph[vertex]:\n",
    "            if neighbour not in visited:\n",
    "                visited.append(neighbour)\n",
    "                queue.append(neighbour)"
   ]
  },
  {
   "cell_type": "code",
   "execution_count": 9,
   "id": "b7d966eb",
   "metadata": {},
   "outputs": [
    {
     "name": "stdout",
     "output_type": "stream",
     "text": [
      "5 3 7 2 4 8 "
     ]
    }
   ],
   "source": [
    "rudy_bfs(graph, '5')"
   ]
  }
 ],
 "metadata": {
  "kernelspec": {
   "display_name": "Python 3 (ipykernel)",
   "language": "python",
   "name": "python3"
  },
  "language_info": {
   "codemirror_mode": {
    "name": "ipython",
    "version": 3
   },
   "file_extension": ".py",
   "mimetype": "text/x-python",
   "name": "python",
   "nbconvert_exporter": "python",
   "pygments_lexer": "ipython3",
   "version": "3.11.5"
  }
 },
 "nbformat": 4,
 "nbformat_minor": 5
}
