{
 "cells": [
  {
   "cell_type": "code",
   "execution_count": 3,
   "id": "dd8b9e10",
   "metadata": {},
   "outputs": [],
   "source": [
    "#def astar()"
   ]
  },
  {
   "cell_type": "code",
   "execution_count": 9,
   "id": "005d8a1e",
   "metadata": {},
   "outputs": [
    {
     "ename": "TypeError",
     "evalue": "'type' object is not iterable",
     "output_type": "error",
     "traceback": [
      "\u001b[1;31m---------------------------------------------------------------------------\u001b[0m",
      "\u001b[1;31mTypeError\u001b[0m                                 Traceback (most recent call last)",
      "Cell \u001b[1;32mIn[9], line 5\u001b[0m\n\u001b[0;32m      1\u001b[0m \u001b[38;5;66;03m# CL = []\u001b[39;00m\n\u001b[0;32m      2\u001b[0m \u001b[38;5;66;03m# OL = []\u001b[39;00m\n\u001b[0;32m      3\u001b[0m \u001b[38;5;66;03m# while(!OL.isEmpty())\u001b[39;00m\n\u001b[1;32m----> 5\u001b[0m opens \u001b[38;5;241m=\u001b[39m \u001b[38;5;28mset\u001b[39m(\u001b[38;5;28mlist\u001b[39m)\n",
      "\u001b[1;31mTypeError\u001b[0m: 'type' object is not iterable"
     ]
    }
   ],
   "source": [
    "# CL = []\n",
    "# OL = []\n",
    "# while(!OL.isEmpty())\n",
    "\n",
    "opens = set(list)\n",
    "    \n"
   ]
  },
  {
   "cell_type": "code",
   "execution_count": 19,
   "id": "94ac590f",
   "metadata": {},
   "outputs": [
    {
     "name": "stdout",
     "output_type": "stream",
     "text": [
      "Path found: ['A', 'E', 'D', 'G']\n"
     ]
    },
    {
     "data": {
      "text/plain": [
       "['A', 'E', 'D', 'G']"
      ]
     },
     "execution_count": 19,
     "metadata": {},
     "output_type": "execute_result"
    }
   ],
   "source": [
    "def aStarAlgo(start_node, stop_node):\n",
    "    open_set = set(start_node)\n",
    "    closed_set = set()\n",
    "    g = {}\n",
    "    parents = {}\n",
    "    g[start_node] = 0\n",
    "\n",
    "    parents[start_node] = start_node\n",
    "\n",
    "\n",
    "    while len(open_set) > 0:\n",
    "        n = None\n",
    "\n",
    "        #node with lowest f() is found\n",
    "        for v in open_set:\n",
    "            if n == None or g[v] + heuristic(v) < g[n] + heuristic(n):\n",
    "                n = v\n",
    "\n",
    "\n",
    "        if n == stop_node or Graph_nodes[n] == None:\n",
    "            pass\n",
    "        else:\n",
    "            for (m, weight) in get_neighbors(n):\n",
    "                #nodes &#39;m&#39; not in first and last set are added to first\n",
    "                #n is set its parent\n",
    "\n",
    "                if m not in open_set and m not in closed_set:\n",
    "                    open_set.add(m)\n",
    "                    parents[m] = n\n",
    "                    g[m] = g[n] + weight\n",
    "\n",
    "\n",
    "                #for each node m,compare its distance from start i.e g(m) to the\n",
    "                #from start through n node\n",
    "                else:\n",
    "                    if g[m] > g[n] + weight:\n",
    "                        #update g(m)\n",
    "                        g[m] = g[n] + weight\n",
    "                        #change parent of m to n\n",
    "                        parents[m] = n\n",
    "\n",
    "                        #if m in closed set,remove and add to open\n",
    "                        if m in closed_set:\n",
    "                            closed_set.remove(m)\n",
    "                            open_set.add(m)\n",
    "\n",
    "        if n == None:\n",
    "            print(\"Path does not exist\")\n",
    "            return None\n",
    "\n",
    "        # if the current node is the stop_node\n",
    "        # then we begin reconstructin the path from it to the start_node\n",
    "        if n == stop_node:\n",
    "            path = []\n",
    "\n",
    "            while parents[n] != n:\n",
    "                path.append(n)\n",
    "                n = parents[n]\n",
    "\n",
    "            path.append(start_node)\n",
    "\n",
    "            path.reverse()\n",
    "\n",
    "            print('Path found: {}'.format(path))\n",
    "            return path\n",
    "\n",
    "\n",
    "        # remove n from the open_list, and add it to closed_list\n",
    "        # because all of his neighbors were inspected\n",
    "        open_set.remove(n)\n",
    "        closed_set.add(n)\n",
    "\n",
    "    print(\"Path does not exist!\")\n",
    "    return None\n",
    "\n",
    "#define fuction to return neighbor and its distance\n",
    "#from the passed node\n",
    "def get_neighbors(v):\n",
    "    if v in Graph_nodes:\n",
    "        return Graph_nodes[v]\n",
    "    else:\n",
    "        return None\n",
    "#for simplicity we ll consider heuristic distances given\n",
    "#and this function returns heuristic distance for all nodes\n",
    "def heuristic(n):\n",
    "    H_dist = {\n",
    "        'A': 11,\n",
    "        'B': 6,\n",
    "        'C': 99,\n",
    "        'D': 1,\n",
    "        'E': 7,\n",
    "        'G': 0,\n",
    "\n",
    "    }\n",
    "\n",
    "    return H_dist[n]\n",
    "\n",
    "#Describe your graph here \n",
    "Graph_nodes = {\n",
    "'A': [('B', 2), ('E', 3)],\n",
    "'B': [('C', 1),('G', 9)],\n",
    "'C': None,\n",
    "'E': [('D', 6)],\n",
    "'D': [('G', 1)],\n",
    "\n",
    "}\n",
    "aStarAlgo('A', 'G')"
   ]
  },
  {
   "cell_type": "code",
   "execution_count": 17,
   "id": "e844da28",
   "metadata": {},
   "outputs": [
    {
     "ename": "UnboundLocalError",
     "evalue": "cannot access local variable 'Graph_nodes' where it is not associated with a value",
     "output_type": "error",
     "traceback": [
      "\u001b[1;31m---------------------------------------------------------------------------\u001b[0m",
      "\u001b[1;31mUnboundLocalError\u001b[0m                         Traceback (most recent call last)",
      "Cell \u001b[1;32mIn[17], line 1\u001b[0m\n\u001b[1;32m----> 1\u001b[0m aStarAlgo(\u001b[38;5;124m'\u001b[39m\u001b[38;5;124mA\u001b[39m\u001b[38;5;124m'\u001b[39m, \u001b[38;5;124m'\u001b[39m\u001b[38;5;124mG\u001b[39m\u001b[38;5;124m'\u001b[39m)\n",
      "Cell \u001b[1;32mIn[16], line 20\u001b[0m, in \u001b[0;36maStarAlgo\u001b[1;34m(start_node, stop_node)\u001b[0m\n\u001b[0;32m     16\u001b[0m     \u001b[38;5;28;01mif\u001b[39;00m n \u001b[38;5;241m==\u001b[39m \u001b[38;5;28;01mNone\u001b[39;00m \u001b[38;5;129;01mor\u001b[39;00m g[v] \u001b[38;5;241m+\u001b[39m heuristic(v) \u001b[38;5;241m<\u001b[39m g[n] \u001b[38;5;241m+\u001b[39m heuristic(n):\n\u001b[0;32m     17\u001b[0m         n \u001b[38;5;241m=\u001b[39m v\n\u001b[1;32m---> 20\u001b[0m \u001b[38;5;28;01mif\u001b[39;00m n \u001b[38;5;241m==\u001b[39m stop_node \u001b[38;5;129;01mor\u001b[39;00m Graph_nodes[n] \u001b[38;5;241m==\u001b[39m \u001b[38;5;28;01mNone\u001b[39;00m:\n\u001b[0;32m     21\u001b[0m     \u001b[38;5;28;01mpass\u001b[39;00m\n\u001b[0;32m     22\u001b[0m \u001b[38;5;28;01melse\u001b[39;00m:\n",
      "\u001b[1;31mUnboundLocalError\u001b[0m: cannot access local variable 'Graph_nodes' where it is not associated with a value"
     ]
    }
   ],
   "source": [
    "aStarAlgo('A', 'G')"
   ]
  }
 ],
 "metadata": {
  "kernelspec": {
   "display_name": "Python 3 (ipykernel)",
   "language": "python",
   "name": "python3"
  },
  "language_info": {
   "codemirror_mode": {
    "name": "ipython",
    "version": 3
   },
   "file_extension": ".py",
   "mimetype": "text/x-python",
   "name": "python",
   "nbconvert_exporter": "python",
   "pygments_lexer": "ipython3",
   "version": "3.11.5"
  }
 },
 "nbformat": 4,
 "nbformat_minor": 5
}
