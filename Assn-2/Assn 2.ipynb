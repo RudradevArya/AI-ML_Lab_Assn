{
 "cells": [
  {
   "cell_type": "code",
   "execution_count": 40,
   "id": "c53b0fa5",
   "metadata": {},
   "outputs": [],
   "source": [
    "def make_board():\n",
    "    board = []\n",
    "    for i in range(3):\n",
    "        board.append(['-'] * 3)\n",
    "    return board"
   ]
  },
  {
   "cell_type": "code",
   "execution_count": 32,
   "id": "d8ce1703",
   "metadata": {},
   "outputs": [],
   "source": [
    "def display_board(board):\n",
    "    for row in board:\n",
    "        print(' '.join(row))\n",
    "    print()"
   ]
  },
  {
   "cell_type": "code",
   "execution_count": 33,
   "id": "969797b5",
   "metadata": {},
   "outputs": [],
   "source": [
    "def place_player(board, row, col, player):\n",
    "    board[row][col] = player"
   ]
  },
  {
   "cell_type": "code",
   "execution_count": 34,
   "id": "520855b7",
   "metadata": {},
   "outputs": [],
   "source": [
    "def if_won(board, player):\n",
    "    return any(\n",
    "        all(board[i][j] == player for j in range(3)) or\n",
    "        all(board[j][i] == player for j in range(3)) or\n",
    "        all(board[i][i] == player for i in range(3)) or\n",
    "        all(board[i][2 - i] == player for i in range(3))\n",
    "        for i in range(3)\n",
    "    )"
   ]
  },
  {
   "cell_type": "code",
   "execution_count": 41,
   "id": "688429f9",
   "metadata": {},
   "outputs": [],
   "source": [
    "\n",
    "def start():\n",
    "    board = make_board()\n",
    "    player = 'X'\n",
    "\n",
    "    while True:\n",
    "        display_board(board)\n",
    "\n",
    "        row, col = map(int, input(f\"Player {player}, enter row and column numbers to place :: \").split())\n",
    "        place_player(board, row - 1, col - 1, player)\n",
    "\n",
    "        if if_won(board, player):\n",
    "            print(f\"Player {player} wins the game!\")\n",
    "            break\n",
    "\n",
    "        player = 'X' if player == 'O' else 'O'\n",
    "\n",
    "    display_board(board)"
   ]
  },
  {
   "cell_type": "code",
   "execution_count": 43,
   "id": "94a2c978",
   "metadata": {},
   "outputs": [
    {
     "name": "stdout",
     "output_type": "stream",
     "text": [
      "- - -\n",
      "- - -\n",
      "- - -\n",
      "\n",
      "Player X, enter row and column numbers to place :: 1 1\n",
      "X - -\n",
      "- - -\n",
      "- - -\n",
      "\n",
      "Player O, enter row and column numbers to place :: 2 3\n",
      "X - -\n",
      "- - O\n",
      "- - -\n",
      "\n",
      "Player X, enter row and column numbers to place :: 2 1\n",
      "X - -\n",
      "X - O\n",
      "- - -\n",
      "\n",
      "Player O, enter row and column numbers to place :: 3 2\n",
      "X - -\n",
      "X - O\n",
      "- O -\n",
      "\n",
      "Player X, enter row and column numbers to place :: 3 1\n",
      "Player X wins the game!\n",
      "X - -\n",
      "X - O\n",
      "X O -\n",
      "\n"
     ]
    }
   ],
   "source": [
    "start()"
   ]
  }
 ],
 "metadata": {
  "kernelspec": {
   "display_name": "Python 3 (ipykernel)",
   "language": "python",
   "name": "python3"
  },
  "language_info": {
   "codemirror_mode": {
    "name": "ipython",
    "version": 3
   },
   "file_extension": ".py",
   "mimetype": "text/x-python",
   "name": "python",
   "nbconvert_exporter": "python",
   "pygments_lexer": "ipython3",
   "version": "3.11.5"
  }
 },
 "nbformat": 4,
 "nbformat_minor": 5
}
